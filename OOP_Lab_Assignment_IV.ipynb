{
  "nbformat": 4,
  "nbformat_minor": 0,
  "metadata": {
    "colab": {
      "name": "OOP_Lab_Assignment_IV.ipynb",
      "provenance": []
    },
    "kernelspec": {
      "name": "python3",
      "display_name": "Python 3"
    },
    "language_info": {
      "name": "python"
    }
  },
  "cells": [
    {
      "cell_type": "code",
      "metadata": {
        "colab": {
          "base_uri": "https://localhost:8080/"
        },
        "id": "qgPUlxSdtZ1d",
        "outputId": "afc9a8d4-3cd2-4d7f-aa9b-15cae31b755b"
      },
      "source": [
        "#Problem1\n",
        "\n",
        "class Node:\n",
        "    def __init__(self, val, next):\n",
        "        self.value = val\n",
        "        self.next = next\n",
        "\n",
        "    def __del__(self):\n",
        "        print(\"Node with value\", self.value, \"deleted\")\n",
        "\n",
        "class Stack:\n",
        "    def __init__(self):\n",
        "        self.head = None\n",
        "        self.tail = self.head\n",
        "\n",
        "    def is_empty(self):\n",
        "        return self.head == None and self.tail == None\n",
        "\n",
        "    def push(self, val):\n",
        "        new_node = Node(val, None)\n",
        "        if self.is_empty():\n",
        "            self.head = new_node\n",
        "            self.tail = self.head\n",
        "        else:\n",
        "            self.tail.next = new_node\n",
        "            self.tail = self.tail.next\n",
        "\n",
        "    def pop(self):\n",
        "        iter = self.head\n",
        "        while True:\n",
        "            if iter.next != self.tail:\n",
        "                iter = iter.next\n",
        "            else:\n",
        "                break\n",
        "        val = iter.next.value\n",
        "        del iter.next\n",
        "        iter.next = None\n",
        "        self.tail = iter\n",
        "        return val\n",
        "\n",
        "\n",
        "    def disp(self):\n",
        "        iter = self.head\n",
        "        if not self.is_empty():\n",
        "            while iter!=None:\n",
        "                print(iter.value, end=\" \")\n",
        "                iter = iter.next\n",
        "        else:\n",
        "            print(\"Empty stack\")\n",
        "\n",
        "s = Stack()\n",
        "print(s.is_empty())\n",
        "s.push(1)\n",
        "print(s.is_empty())\n",
        "s.push(2)\n",
        "s.push(3)\n",
        "s.push(4)\n",
        "s.push(5)\n",
        "print(\"popping:\", s.pop())\n",
        "s.disp()\n"
      ],
      "execution_count": 2,
      "outputs": [
        {
          "output_type": "stream",
          "name": "stdout",
          "text": [
            "True\n",
            "False\n",
            "Node with value 5 deleted\n",
            "popping: 5\n",
            "1 2 3 4 "
          ]
        }
      ]
    },
    {
      "cell_type": "code",
      "metadata": {
        "colab": {
          "base_uri": "https://localhost:8080/"
        },
        "id": "-AExsQLztklX",
        "outputId": "d4f4b608-58b6-4a44-d8b1-254e49404dab"
      },
      "source": [
        "#Problem2\n",
        "\n",
        "class Rect:\n",
        "  def __init__(self, length = 1, breadth = 1):\n",
        "    self.length = length\n",
        "    self.breadth = breadth\n",
        "\n",
        "  def disp_Area(self):\n",
        "    print(\"Area:\", self.length*self.breadth)\n",
        "    return self.length*self.breadth\n",
        "\n",
        "A = Rect(6, 8)\n",
        "A.disp_Area()\n",
        "A = Rect(4)\n",
        "A.disp_Area()\n",
        "A = Rect()\n",
        "A.disp_Area()\n",
        "\n",
        "  "
      ],
      "execution_count": 1,
      "outputs": [
        {
          "output_type": "stream",
          "name": "stdout",
          "text": [
            "Area: 48\n",
            "Area: 4\n",
            "Area: 1\n"
          ]
        },
        {
          "output_type": "execute_result",
          "data": {
            "text/plain": [
              "1"
            ]
          },
          "metadata": {},
          "execution_count": 1
        }
      ]
    },
    {
      "cell_type": "code",
      "metadata": {
        "colab": {
          "base_uri": "https://localhost:8080/"
        },
        "id": "fFjC1xk8vq_P",
        "outputId": "a4ebc81a-53f3-482a-8edd-fb24cdc8a506"
      },
      "source": [
        "#Problem3\n",
        "\n",
        "class Node:\n",
        "    def __init__(self, val, next):\n",
        "        self.value = val\n",
        "        self.next = next\n",
        "\n",
        "    def __del__(self):\n",
        "        print(\"Node with value\", self.value, \"deleted\")\n",
        "\n",
        "class Queue:\n",
        "    def __init__(self):\n",
        "        self.head = None\n",
        "        self.tail = self.head\n",
        "\n",
        "    def is_empty(self):\n",
        "        return self.head == None and self.tail == None\n",
        "\n",
        "    def enqueue(self, val):\n",
        "        new_node = Node(val, None)\n",
        "        if self.is_empty():\n",
        "            self.head = new_node\n",
        "            self.tail = self.head\n",
        "        else:\n",
        "            new_node.next = self.head\n",
        "            self.head = new_node\n",
        "\n",
        "    def dequeue(self):\n",
        "        iter = self.head\n",
        "        while True:\n",
        "            if iter.next != self.tail:\n",
        "                iter = iter.next\n",
        "            else:\n",
        "                break\n",
        "        val = iter.next.value\n",
        "        del iter.next\n",
        "        iter.next = None\n",
        "        self.tail = iter\n",
        "        return val\n",
        "\n",
        "\n",
        "    def disp(self):\n",
        "        iter = self.head\n",
        "        if not self.is_empty():\n",
        "            while iter!=None:\n",
        "                print(iter.value, end=\" \")\n",
        "                iter = iter.next\n",
        "        else:\n",
        "            print(\"Empty stack\")\n",
        "\n",
        "s = Queue()\n",
        "print(s.is_empty())\n",
        "s.enqueue(1)\n",
        "print(s.is_empty())\n",
        "s.enqueue(2)\n",
        "s.enqueue(3)\n",
        "s.enqueue(4)\n",
        "s.enqueue(5)\n",
        "print(\"popping:\", s.dequeue())\n",
        "s.disp()\n"
      ],
      "execution_count": 3,
      "outputs": [
        {
          "output_type": "stream",
          "name": "stdout",
          "text": [
            "Node with value 1 deleted\n",
            "Node with value 2 deleted\n",
            "Node with value 3 deleted\n",
            "Node with value 4 deleted\n",
            "True\n",
            "False\n",
            "Node with value 1 deleted\n",
            "popping: 1\n",
            "5 4 3 2 "
          ]
        }
      ]
    }
  ]
}