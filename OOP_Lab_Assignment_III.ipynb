{
  "nbformat": 4,
  "nbformat_minor": 2,
  "metadata": {
    "colab": {
      "name": "sudeepto-20bcs130-ooptask3",
      "provenance": []
    },
    "kernelspec": {
      "name": "python3",
      "display_name": "Python 3.9.1 64-bit"
    },
    "language_info": {
      "name": "python",
      "version": "3.9.1",
      "mimetype": "text/x-python",
      "codemirror_mode": {
        "name": "ipython",
        "version": 3
      },
      "pygments_lexer": "ipython3",
      "nbconvert_exporter": "python",
      "file_extension": ".py"
    },
    "interpreter": {
      "hash": "31000acbf94b9f7d7bb9ee375a47aa834943ab4405f223cbe896948cccd07e76"
    }
  },
  "cells": [
    {
      "cell_type": "code",
      "execution_count": 1,
      "source": [
        "class Student(object):\r\n",
        "\r\n",
        "  def __init__(self):\r\n",
        "    self.name = input(\"Name of Student : \")\r\n",
        "    self.reg_no = input(\"Roll.No : \")\r\n",
        "    self.age = int(input(\"Age of Student : \"))\r\n",
        "    self.gender = input(\"Gender (M/F): \")\r\n",
        "    self.branch = input(\"Branch : \")\r\n",
        "    self.sem = input(\"Semester.No : \")\r\n",
        "  def display(self):\r\n",
        "    print(\"\\n\\n\")\r\n",
        "    print(\"Name of Student is: \", self.name)\r\n",
        "    print(\"Roll.No of Student is: \", self.reg_no)\r\n",
        "    print(\"Age of Student is: \", self.age)\r\n",
        "    print(\"Gender of Student is: \", self.gender)\r\n",
        "    print(\"Branch of Student is: \", self.branch)\r\n",
        "    print(\"Semester of Student is: \", self.sem)\r\n",
        "class Student_Result(Student):\r\n",
        "  def __init__(self):\r\n",
        "    Student.__init__(self)\r\n",
        "    self.total_marks = int(input(\"Total Marks of Student is \"))  \r\n",
        "    self.percentage = int(input(\"Percentage of Student is \"))\r\n",
        "    self.grade = input(\"Grade of Student is \")\r\n",
        "\r\n",
        "  def display_grade(self):\r\n",
        "    print(f\"{self.name}'s Total Marks: {self.total_marks}\")\r\n",
        "    print(f\"{self.name}'s Percentage is: {self.percentage}\")\r\n",
        "    print(f\"{self.name}'s Grade is: {self.grade}\") \r\n",
        "\r\n",
        "stud = Student_Result()\r\n",
        "stud.display()\r\n",
        "stud.display_grade()     "
      ],
      "outputs": [
        {
          "output_type": "stream",
          "name": "stdout",
          "text": [
            "\n",
            "\n",
            "\n",
            "Name of Student is:  Somisetty Sai Praneeth\n",
            "Roll.No of Student is:  20BCS125\n",
            "Age of Student is:  19\n",
            "Gender of Student is:  M\n",
            "Branch of Student is:  CSE\n",
            "Semester of Student is:  3\n",
            "Somisetty Sai Praneeth's Total Marks: 596\n",
            "Somisetty Sai Praneeth's Percentage is: 85\n",
            "Somisetty Sai Praneeth's Grade is: A-\n"
          ]
        }
      ],
      "metadata": {
        "colab": {
          "base_uri": "https://localhost:8080/"
        },
        "id": "3m_y9bSMlg0r",
        "outputId": "1278cd1f-2be3-4fce-d0e4-7f57ba7cd612"
      }
    },
    {
      "cell_type": "code",
      "execution_count": 3,
      "source": [
        "class Pdf(object):\r\n",
        "  def __init__(self):\r\n",
        "    self.Author = \"Anand\"\r\n",
        "    self.Description = \"Differential Equations\"\r\n",
        "    self.File_Size_in_MB = 84\r\n",
        "  def display(self):\r\n",
        "    print(\"Name of author of pdf is: \", self.Author)\r\n",
        "    print(\"Name of pdf is: \", self.Description)\r\n",
        "    print(\"Size of pdf in MB is: \", self.File_Size_in_MB)  \r\n",
        "class picture(Pdf):\r\n",
        "  def __init__(self, img_dimension):\r\n",
        "    Pdf.__init__(self)\r\n",
        "    self.img_dimension = img_dimension\r\n",
        "  def display_pic(self):\r\n",
        "    print(\"Name of pic is created by : \", self.Author)\r\n",
        "    print(\"Name of pic is: \", self.Description)\r\n",
        "    print(\"Size of pic in MB is: \", self.File_Size_in_MB)\r\n",
        "    print(\"img dimensions are: \", self.img_dimension)\r\n",
        "file = picture(\"75X50\")\r\n",
        "file.display()\r\n",
        "print(\"\\n\\n\")  \r\n",
        "file.display_pic()        \r\n"
      ],
      "outputs": [
        {
          "output_type": "stream",
          "name": "stdout",
          "text": [
            "Name of author of pdf is:  Anand\n",
            "Name of pdf is:  Differential Equations\n",
            "Size of pdf in MB is:  84\n",
            "\n",
            "\n",
            "\n",
            "Name of pic is created by :  Anand\n",
            "Name of pic is:  Differential Equations\n",
            "Size of pic in MB is:  84\n",
            "img dimensions are:  75X50\n"
          ]
        }
      ],
      "metadata": {
        "colab": {
          "base_uri": "https://localhost:8080/"
        },
        "id": "EDrQ4DZJyBGG",
        "outputId": "a8457168-e04f-4e57-aed9-8adb30e6805c"
      }
    },
    {
      "cell_type": "code",
      "execution_count": 2,
      "source": [
        "class Vehicle:\r\n",
        "    def __init__(self, name, mileage, capacity):\r\n",
        "        self.name = name\r\n",
        "        self.mileage = mileage\r\n",
        "        self.capacity = capacity\r\n",
        "    def fare(self):\r\n",
        "        return self.capacity * 100\r\n",
        "class Bus(Vehicle):\r\n",
        "    def fare(self):\r\n",
        "        tota_amount = self.capacity * 100 \r\n",
        "        final_amount = tota_amount + (0.1 *tota_amount)\r\n",
        "        return final_amount\r\n",
        "school_bus = Bus(\"school bus\", 12, 50)\r\n",
        "print(\"Total Bus fare is:\", school_bus.fare())"
      ],
      "outputs": [
        {
          "output_type": "stream",
          "name": "stdout",
          "text": [
            "Total Bus fare is: 5500.0\n"
          ]
        }
      ],
      "metadata": {
        "colab": {
          "base_uri": "https://localhost:8080/"
        },
        "id": "P6OcpCG9JYPh",
        "outputId": "21a76835-4103-4c26-ca97-453e363f9fc9"
      }
    }
  ]
}