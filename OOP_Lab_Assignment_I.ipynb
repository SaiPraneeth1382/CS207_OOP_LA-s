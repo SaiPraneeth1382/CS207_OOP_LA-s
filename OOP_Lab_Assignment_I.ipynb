{
  "nbformat": 4,
  "nbformat_minor": 0,
  "metadata": {
    "colab": {
      "name": "OOP Lab Assignment-I.ipynb",
      "provenance": [],
      "collapsed_sections": []
    },
    "kernelspec": {
      "name": "python3",
      "display_name": "Python 3"
    },
    "language_info": {
      "name": "python"
    }
  },
  "cells": [
    {
      "cell_type": "code",
      "metadata": {
        "colab": {
          "base_uri": "https://localhost:8080/"
        },
        "id": "znyhPumW7fKb",
        "outputId": "140cd279-3071-460c-b733-dcf4801a3a43"
      },
      "source": [
        "##Problem 1\n",
        "\n",
        "def Leapyear(year):\n",
        "  if year % 4 == 0 and year % 100 != 0 and year % 400 == 0:\n",
        "    return True\n",
        "  if year % 4 == 0 or year % 400 == 0:\n",
        "    return True\n",
        "  else:\n",
        "    return False\n",
        "\n",
        "year = int(input(\"Year : \"))\n",
        "print(\"{0} is Leap Year : {1}\".format(year, Leapyear(year)))"
      ],
      "execution_count": 2,
      "outputs": [
        {
          "output_type": "stream",
          "name": "stdout",
          "text": [
            "Year : 2020\n",
            "2020 is Leap Year : True\n"
          ]
        }
      ]
    },
    {
      "cell_type": "code",
      "metadata": {
        "colab": {
          "base_uri": "https://localhost:8080/"
        },
        "id": "w74NgTQXnQYs",
        "outputId": "e3037cd0-3738-49c9-c8aa-9b895fa2c617"
      },
      "source": [
        "##Problem 2\n",
        "\n",
        "def Weird(N):\n",
        "  if N % 2 == 0:\n",
        "    if N in range(2, 5 + 1):\n",
        "      print(\"Not Weird\")\n",
        "    elif N in range(6, 20 + 1):\n",
        "      print(\"Weird\")\n",
        "    else:\n",
        "      print(\"Not Weird\")\n",
        "  else:\n",
        "    print(\"Weird\")\n",
        "\n",
        "N = int(input(\"Enter N : \"))\n",
        "Weird(N)"
      ],
      "execution_count": 4,
      "outputs": [
        {
          "output_type": "stream",
          "name": "stdout",
          "text": [
            "Enter N : 5\n",
            "Weird\n"
          ]
        }
      ]
    },
    {
      "cell_type": "code",
      "metadata": {
        "colab": {
          "base_uri": "https://localhost:8080/"
        },
        "id": "DT9G_xFIohf2",
        "outputId": "32c441ac-4cd2-47aa-b2e7-78fdd592a1ee"
      },
      "source": [
        "##Problem 3\n",
        "\n",
        "def Latecomers(Guests, Name):\n",
        "  mid = len(Guests) // 2\n",
        "  if Name in Guests[mid : len(Guests) - 1]:\n",
        "    print(\"{0} is Fashionably late\".format(Name))\n",
        "    return\n",
        "  else:\n",
        "    print(\"{0} is not Fashionably late\".format(Name))\n",
        "  return\n",
        "\n",
        "Arrival = [\"Hardik\", \"Rahul\", \"Virat\", \"Rishabh\", \"Mahi\", \"Rohit\", \"Rahane\"]\n",
        "N = str(input(\"Enter Name : \"))\n",
        "Latecomers(Arrival, N)"
      ],
      "execution_count": 5,
      "outputs": [
        {
          "output_type": "stream",
          "name": "stdout",
          "text": [
            "Enter Name : Rahul\n",
            "Rahul is not Fashionably late\n"
          ]
        }
      ]
    },
    {
      "cell_type": "code",
      "metadata": {
        "id": "gMBnTQ5cUsfB",
        "colab": {
          "base_uri": "https://localhost:8080/"
        },
        "outputId": "0049277c-f712-4975-e4d4-0173463c9942"
      },
      "source": [
        "##Problem 4\n",
        "\n",
        "def FilterArticle(list, keyword):\n",
        "  status = False\n",
        "  for i in list:\n",
        "    temp = i.split()\n",
        "    if keyword in temp or keyword.capitalize() in temp or keyword.upper() in temp or keyword.lower() in temp:\n",
        "      print(i)\n",
        "      status = True\n",
        "      continue\n",
        "  if status == False:\n",
        "    print(\"No Results Found!\")\n",
        "  \n",
        "\n",
        "doc_list = [\"The Learn Python Challange Rohit.\", \"They bought a car\", \"bangalore\"]\n",
        "keyword = str(input(\"Enter Keyword to Search for Article : \"))\n",
        "FilterArticle(doc_list, keyword)"
      ],
      "execution_count": 6,
      "outputs": [
        {
          "output_type": "stream",
          "name": "stdout",
          "text": [
            "Enter Keyword to Search for Article : a\n",
            "They bought a car\n"
          ]
        }
      ]
    },
    {
      "cell_type": "code",
      "metadata": {
        "id": "uylUc6PRq_VY",
        "colab": {
          "base_uri": "https://localhost:8080/"
        },
        "outputId": "cb57a84e-3ff0-4403-87e7-1925f6746156"
      },
      "source": [
        "##Problem 5\n",
        "\n",
        "def GrossPay(BP):\n",
        "  return BP + 0.4 * BP + 0.2 * BP\n",
        "\n",
        "BP = float(input(\"Enter Basic Pay : \"))\n",
        "print(\"Gross Pay : \", float(GrossPay(BP)))"
      ],
      "execution_count": 7,
      "outputs": [
        {
          "output_type": "stream",
          "name": "stdout",
          "text": [
            "Enter Basic Pay : 10000\n",
            "Gross Pay :  16000.0\n"
          ]
        }
      ]
    }
  ]
}