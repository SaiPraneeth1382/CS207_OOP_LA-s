{
  "nbformat": 4,
  "nbformat_minor": 2,
  "metadata": {
    "colab": {
      "name": "OOP_Lab Assignment_II.ipynb",
      "provenance": [],
      "collapsed_sections": []
    },
    "kernelspec": {
      "name": "python3",
      "display_name": "Python 3.9.1 64-bit"
    },
    "language_info": {
      "name": "python",
      "version": "3.9.1",
      "mimetype": "text/x-python",
      "codemirror_mode": {
        "name": "ipython",
        "version": 3
      },
      "pygments_lexer": "ipython3",
      "nbconvert_exporter": "python",
      "file_extension": ".py"
    },
    "interpreter": {
      "hash": "31000acbf94b9f7d7bb9ee375a47aa834943ab4405f223cbe896948cccd07e76"
    }
  },
  "cells": [
    {
      "cell_type": "code",
      "execution_count": 1,
      "source": [
        "##Problem 1\r\n",
        "class Circle():\r\n",
        "    def __init__(self, r):\r\n",
        "        self.radius = r\r\n",
        "    def area(self):\r\n",
        "        return self.radius**2*3.1415\r\n",
        "    def perimeter(self):\r\n",
        "        return 2*self.radius*3.1415\r\n",
        "\r\n",
        "SampleCircle = Circle(4.5)\r\n",
        "print(SampleCircle.area())\r\n",
        "print(SampleCircle.perimeter())\r\n"
      ],
      "outputs": [
        {
          "output_type": "stream",
          "name": "stdout",
          "text": [
            "63.615375\n",
            "28.273500000000002\n"
          ]
        }
      ],
      "metadata": {
        "colab": {
          "base_uri": "https://localhost:8080/"
        },
        "id": "oWZv90q8niSr",
        "outputId": "554185fe-ca07-4ee3-8e1e-2bba4974628a"
      }
    },
    {
      "cell_type": "code",
      "execution_count": 2,
      "source": [
        "##Problem 2\r\n",
        "class Faculty:\r\n",
        "  def __init__(self):\r\n",
        "    self.Name = str(input(\"Name of Employee : \"))\r\n",
        "    self.EmpID = str(input(\"Employee ID : \"))\r\n",
        "    self.Branch = str(input(\"Branch : \"))\r\n",
        "    self.Salary = float(input(\"Salary : \"))\r\n",
        "  def show(self):\r\n",
        "    print(\"\\nEmployee Details :\")\r\n",
        "    print(\"Name of Employee : \", self.Name)\r\n",
        "    print(\"Employee ID : \", self.EmpID)\r\n",
        "    print(\"Branch : \", self.Branch)\r\n",
        "    print(\"Salary : \", self.Salary)\r\n",
        "    print(\"\\n\")\r\n",
        "    return\r\n",
        "N = int(input(\"Number of Employees : \"))\r\n",
        "for i in range(N):\r\n",
        "  F = Faculty()\r\n",
        "  F.show()"
      ],
      "outputs": [
        {
          "output_type": "error",
          "ename": "ValueError",
          "evalue": "invalid literal for int() with base 10: ''",
          "traceback": [
            "\u001b[1;31m---------------------------------------------------------------------------\u001b[0m",
            "\u001b[1;31mValueError\u001b[0m                                Traceback (most recent call last)",
            "\u001b[1;32m<ipython-input-2-5fd500e299c8>\u001b[0m in \u001b[0;36m<module>\u001b[1;34m\u001b[0m\n\u001b[0;32m     14\u001b[0m     \u001b[0mprint\u001b[0m\u001b[1;33m(\u001b[0m\u001b[1;34m\"\\n\"\u001b[0m\u001b[1;33m)\u001b[0m\u001b[1;33m\u001b[0m\u001b[1;33m\u001b[0m\u001b[0m\n\u001b[0;32m     15\u001b[0m     \u001b[1;32mreturn\u001b[0m\u001b[1;33m\u001b[0m\u001b[1;33m\u001b[0m\u001b[0m\n\u001b[1;32m---> 16\u001b[1;33m \u001b[0mN\u001b[0m \u001b[1;33m=\u001b[0m \u001b[0mint\u001b[0m\u001b[1;33m(\u001b[0m\u001b[0minput\u001b[0m\u001b[1;33m(\u001b[0m\u001b[1;34m\"Number of Employees : \"\u001b[0m\u001b[1;33m)\u001b[0m\u001b[1;33m)\u001b[0m\u001b[1;33m\u001b[0m\u001b[1;33m\u001b[0m\u001b[0m\n\u001b[0m\u001b[0;32m     17\u001b[0m \u001b[1;32mfor\u001b[0m \u001b[0mi\u001b[0m \u001b[1;32min\u001b[0m \u001b[0mrange\u001b[0m\u001b[1;33m(\u001b[0m\u001b[0mN\u001b[0m\u001b[1;33m)\u001b[0m\u001b[1;33m:\u001b[0m\u001b[1;33m\u001b[0m\u001b[1;33m\u001b[0m\u001b[0m\n\u001b[0;32m     18\u001b[0m   \u001b[0mF\u001b[0m \u001b[1;33m=\u001b[0m \u001b[0mFaculty\u001b[0m\u001b[1;33m(\u001b[0m\u001b[1;33m)\u001b[0m\u001b[1;33m\u001b[0m\u001b[1;33m\u001b[0m\u001b[0m\n",
            "\u001b[1;31mValueError\u001b[0m: invalid literal for int() with base 10: ''"
          ]
        }
      ],
      "metadata": {
        "colab": {
          "base_uri": "https://localhost:8080/"
        },
        "id": "G-TQO8K349Er",
        "outputId": "765463e9-6b9b-4fac-dbd5-806366926e00"
      }
    },
    {
      "cell_type": "code",
      "execution_count": null,
      "source": [
        "##Problem 3\r\n",
        "class Account:\r\n",
        "  def __init__(self):\r\n",
        "    self. AccNo = str(input(\"Account Number : \"))\r\n",
        "    self.AccHolder = str(input(\"Name : \"))\r\n",
        "    self.Amnt = 50000.00\r\n",
        "  def AccountDetails(self):\r\n",
        "    print(\"\\nAccount Details :\")\r\n",
        "    print(\"Account Number : \", self.AccNo)\r\n",
        "    print(\"Account Holder Name : \", self.AccHolder)\r\n",
        "    print(\"Account Balance : \", self.Amnt)\r\n",
        "  def Deposit(self):\r\n",
        "    Amount = float(input(\"\\nEnter Amount for Deposit : \"))\r\n",
        "    self.Amnt += Amount\r\n",
        "    print(\"Account Balance : \", self.Amnt)\r\n",
        "  def Withdrawl(self):\r\n",
        "    Amount = float(input(\"\\nEnter Amount to Withdrawl : \"))\r\n",
        "    if Amount <= self.Amnt:\r\n",
        "      self.Amnt -= Amount\r\n",
        "      print(\"Transaction Successful\")\r\n",
        "      print(\"Account Balance : \", self.Amnt)\r\n",
        "    else:\r\n",
        "      print(\"Insufficient Account Balance\")\r\n",
        "      print(\"Transaction Failed\")\r\n",
        "  def chckBalance(self):\r\n",
        "    print(\"\\nAccount Balance : \", self.Amnt)\r\n",
        "acc = Account()\r\n",
        "acc.AccountDetails()\r\n",
        "acc.Deposit()\r\n",
        "acc.Withdrawl()\r\n",
        "acc.chckBalance()\r\n"
      ],
      "outputs": [
        {
          "output_type": "stream",
          "name": "stdout",
          "text": [
            "Account Number : 91087061806\n",
            "Name : Sakshi Chowdary\n",
            "\n",
            "Account Details :\n",
            "Account Number :  91087061806\n",
            "Account Holder Name :  Sakshi Chowdary\n",
            "Account Balance :  50000.0\n",
            "\n",
            "Enter Amount for Deposit : 25000\n",
            "Account Balance :  75000.0\n",
            "\n",
            "Enter Amount to Withdrawl : 5489\n",
            "Transaction Successful\n",
            "Account Balance :  69511.0\n",
            "\n",
            "Account Balance :  69511.0\n"
          ]
        }
      ],
      "metadata": {
        "colab": {
          "base_uri": "https://localhost:8080/"
        },
        "id": "MrShERG25J3t",
        "outputId": "81f334bb-23c6-4f7b-b2c6-89e6974fd397"
      }
    },
    {
      "cell_type": "code",
      "execution_count": null,
      "source": [
        "##Problem 4\r\n",
        "class Student:\r\n",
        "  def __init__(self, Name, USN):\r\n",
        "    self.Name = Name\r\n",
        "    self.USN = USN\r\n",
        "    self.Marks = []\r\n",
        "  def Input(self):\r\n",
        "    N = int(input(\"Number of Subjects : \"))\r\n",
        "    for i in range(N):\r\n",
        "      self.Marks.append(float(input(\"Marks : \")))\r\n",
        "  def Show(self):\r\n",
        "    print(\"\\nStudent Name : \", self.Name)\r\n",
        "    print(\"USN : \", self.USN)\r\n",
        "    for i in range(len(self.Marks)):\r\n",
        "      print(\"Marks in Subject {0} : {1}\".format(i + 1, self.Marks[i]))\r\n",
        "Name = str(input(\"Student Name : \"))\r\n",
        "USN = str(input(\"USN : \"))\r\n",
        "S = Student(Name, USN)\r\n",
        "S.Input()\r\n",
        "S.Show()"
      ],
      "outputs": [
        {
          "output_type": "stream",
          "name": "stdout",
          "text": [
            "Student Name : Patel Aryan\n",
            "USN : 20BCS097\n",
            "Number of Subjects : 4\n",
            "Marks : 92\n",
            "Marks : 89\n",
            "Marks : 95\n",
            "Marks : 96\n",
            "\n",
            "Student Name :  Patel Aryan\n",
            "USN :  20BCS097\n",
            "Marks in Subject 1 : 92.0\n",
            "Marks in Subject 2 : 89.0\n",
            "Marks in Subject 3 : 95.0\n",
            "Marks in Subject 4 : 96.0\n"
          ]
        }
      ],
      "metadata": {
        "colab": {
          "base_uri": "https://localhost:8080/"
        },
        "id": "dNj_wwFr6CgE",
        "outputId": "7b7cad53-6fe0-4378-d9cf-64ed6652ef94"
      }
    },
    {
      "cell_type": "code",
      "execution_count": null,
      "source": [
        "##Problem 5\r\n",
        "class Hospital:\r\n",
        "  def __init__(self):\r\n",
        "    self.Patients = {}\r\n",
        "    self.Nt = 0\r\n",
        "  def Input(self):\r\n",
        "    N = int(input(\"Number of Patients : \"))\r\n",
        "    for i in range(N):\r\n",
        "      self.Nt += 1\r\n",
        "      Name = str(input(\"Patients Name : \"))\r\n",
        "      DateofAdmission = str(input(\"Date of Admission : \"))\r\n",
        "      Symptoms = []\r\n",
        "      S = int(input(\"Number of Symptoms : \"))\r\n",
        "      for i in range(S):\r\n",
        "        Symptoms.append(str(input(\"Symptom : \")))\r\n",
        "      OxygenLevel = float(input(\"Oxygen Level : \"))\r\n",
        "      DateofDischarge = str(input(\"Date of Discharge : \"))\r\n",
        "      self.Patients[Name] = {}\r\n",
        "      self.Patients[Name][\"Date of Admission\"] = DateofAdmission\r\n",
        "      self.Patients[Name][\"Symptoms\"] = Symptoms\r\n",
        "      self.Patients[Name][\"Oxygen Level\"] = OxygenLevel\r\n",
        "      self.Patients[Name][\"Date of Discharge\"] = DateofDischarge\r\n",
        "  def Status(self):\r\n",
        "    for Name in self.Patients:\r\n",
        "      if self.Patients[Name][\"Oxygen Level\"] < 90:\r\n",
        "        self.Patients[Name][\"Status\"] = \"Severe\"\r\n",
        "        print(\"{0} is on Oxygen Support\".format(Name))\r\n",
        "      else:\r\n",
        "        self.Patients[Name][\"Status\"] = \"Normal\"\r\n",
        "        print(\"{0} is on General Observation Ward\".format(Name))\r\n",
        "  def Requirement(self):\r\n",
        "    No = Nw = 0\r\n",
        "    for Name in self.Patients:\r\n",
        "      if self.Patients[Name][\"Oxygen Level\"] < 90:\r\n",
        "        No += 1\r\n",
        "      else:\r\n",
        "        Nw += 1\r\n",
        "    print(\"{0} Patients require Oxygen Support\".format(No))\r\n",
        "    print(\"{0} Patients are in General Ward\".format(Nw))\r\n",
        "    print(\"Total Patients : {0}\".format(self.Nt))\r\n",
        "H = Hospital()\r\n",
        "H.Input()\r\n",
        "H.Status()\r\n",
        "H.Requirement()"
      ],
      "outputs": [
        {
          "output_type": "stream",
          "name": "stdout",
          "text": [
            "Number of Patients : 2\n",
            "Patients Name : Ramesh\n",
            "Date of Admission : 02/09/21\n",
            "Number of Symptoms : 2\n",
            "Symptom : Cold\n",
            "Symptom : Cough\n",
            "Oxygen Level : 89\n",
            "Date of Discharge : 06/09/21\n",
            "Patients Name : Suresh\n",
            "Date of Admission : 04/09/21\n",
            "Number of Symptoms : 2\n",
            "Symptom : Fever\n",
            "Symptom : Body Pains\n",
            "Oxygen Level : 93\n",
            "Date of Discharge : 06/09/21\n",
            "Ramesh is on Oxygen Support\n",
            "Suresh is on General Observation Ward\n",
            "1 Patients require Oxygen Support\n",
            "1 Patients are in General Ward\n",
            "Total Patients : 2\n"
          ]
        }
      ],
      "metadata": {
        "colab": {
          "base_uri": "https://localhost:8080/"
        },
        "id": "nnNDGZGD6kEc",
        "outputId": "fbf4818b-3f14-4dfa-ede9-49e7e264ba39"
      }
    },
    {
      "cell_type": "code",
      "execution_count": null,
      "source": [
        "##Problem 6\r\n",
        "import datetime\r\n",
        "class Time:\r\n",
        "  def __init__(self):\r\n",
        "    self.hours = 0\r\n",
        "    self.minutes = 0\r\n",
        "    self.seconds = 0\r\n",
        "  def __init__(self):\r\n",
        "    self.hours = int(datetime.datetime.now().hour)\r\n",
        "    self.minutes = int(datetime.datetime.now().minute)\r\n",
        "    self.seconds = int(datetime.datetime.now().second)\r\n",
        "  def show(self):\r\n",
        "    print(\"Time in (hh:mm:ss) format : {0}:{1}:{2}\".format(self.hours, self.minutes, self.seconds))\r\n",
        "T = Time()\r\n",
        "T.show()"
      ],
      "outputs": [
        {
          "output_type": "stream",
          "name": "stdout",
          "text": [
            "Time in (hh:mm:ss) format : 9:26:47\n"
          ]
        }
      ],
      "metadata": {
        "colab": {
          "base_uri": "https://localhost:8080/"
        },
        "id": "J8D_JE9q7Tbg",
        "outputId": "532040c6-5bc6-42ae-9828-c9661c70755b"
      }
    },
    {
      "cell_type": "code",
      "execution_count": null,
      "source": [
        "##Problem 7\r\n",
        "class Student:\r\n",
        "  def __init__(self):\r\n",
        "    self.SData = {}\r\n",
        "  def Input(self):\r\n",
        "    N = int(input(\"Number of Students : \"))\r\n",
        "    for i in range(N):\r\n",
        "      Name = str(input(\"Student Name : \"))\r\n",
        "      Age = int(input(\"Student Age : \"))\r\n",
        "      RollNo = str(input(\"Student Roll No : \"))\r\n",
        "      self.SData[i] = {}\r\n",
        "      self.SData[i][\"Name\"] = Name\r\n",
        "      self.SData[i][\"Age\"] = Age\r\n",
        "      self.SData[i][\"Roll No\"] = RollNo\r\n",
        "  def Compare(self):\r\n",
        "    if self.SData[0][\"Age\"] == self.SData[1][\"Age\"]:\r\n",
        "      print(\"Both Student have equal Age\")\r\n",
        "    else:\r\n",
        "      print(\"Both Student have not equal Age\")\r\n",
        "S = Student()\r\n",
        "S.Input()\r\n",
        "S.Compare()"
      ],
      "outputs": [
        {
          "output_type": "stream",
          "name": "stdout",
          "text": [
            "Number of Students : 2\n",
            "Student Name : Rahul\n",
            "Student Age : 15\n",
            "Student Roll No : 21\n",
            "Student Name : Prateek\n",
            "Student Age : 16\n",
            "Student Roll No : 22\n",
            "Both Student have not equal Age\n"
          ]
        }
      ],
      "metadata": {
        "colab": {
          "base_uri": "https://localhost:8080/"
        },
        "id": "tRVcFlgh7nbB",
        "outputId": "48d63a7b-310a-4a7d-a4dc-e8ab0a78dc04"
      }
    },
    {
      "cell_type": "code",
      "execution_count": null,
      "source": [
        "##Problem 8\r\n",
        "class Student:\r\n",
        "  ##Class Variables\r\n",
        "  sem = 3\r\n",
        "  Inst = \"IIIT Dharwad\"\r\n",
        "  def __init__(self, Name, USN):\r\n",
        "    ##Instance Variable\r\n",
        "    self.Name = Name\r\n",
        "    self.USN = USN\r\n",
        "  def Show_1(self):\r\n",
        "    ##Printing Using Instance Method\r\n",
        "    print(\"Name of Student : \", self.Name)\r\n",
        "    print(\"USN of Student : \", self.USN)\r\n",
        "  @classmethod\r\n",
        "  def Show_2(cls):\r\n",
        "    print(\"Semester of Student : \", cls.sem)\r\n",
        "    print(\"Student's Institute : \", cls.Inst)\r\n",
        "  @staticmethod\r\n",
        "  def Exp():\r\n",
        "    print(\"\\nExplanation about the Class :\\nIn python, Class is an user defined blueprint from which objects are created.\\nThis is Student Class to store Student Details.\")\r\n",
        "s = Student(\"Rahul Ramakrishna\", \"21\")\r\n",
        "s.Show_1()\r\n",
        "Student.Show_2()\r\n",
        "s.Exp()"
      ],
      "outputs": [
        {
          "output_type": "stream",
          "name": "stdout",
          "text": [
            "Name of Student :  Rahul Ramakrishna\n",
            "USN of Student :  21\n",
            "Semester of Student :  3\n",
            "Student's Institute :  IIIT Dharwad\n",
            "\n",
            "Explanation about the Class :\n",
            "In python, Class is an user defined blueprint from which objects are created.\n",
            "This is Student Class to store Student Details.\n"
          ]
        }
      ],
      "metadata": {
        "colab": {
          "base_uri": "https://localhost:8080/"
        },
        "id": "WmdUL9P678TB",
        "outputId": "991643f1-2bbd-4b84-87f6-a237aeebb47f"
      }
    },
    {
      "cell_type": "code",
      "execution_count": null,
      "source": [
        "##Problem 9\r\n",
        "class Student:\r\n",
        "  def __init__(self):\r\n",
        "    self.Name = str(input(\"Name of student : \"))\r\n",
        "    self.RollNo = str(input(\"Roll.No : \"))\r\n",
        "    self.Sem = int(input(\"Semester.No : \"))\r\n",
        "  def Show(self):\r\n",
        "    print(\"Details of Student\")\r\n",
        "    print(\"Student Name : \", self.Name)\r\n",
        "    print(\"Student Roll.No : \", self.RollNo)\r\n",
        "    print(\"Semester : \", self.Sem)\r\n",
        "  class Laptop:\r\n",
        "    def __init__(self, CPU, RAM, HDD):\r\n",
        "      self.CPU = CPU\r\n",
        "      self.RAM = RAM\r\n",
        "      self.HDD = HDD\r\n",
        "    def Show(self):\r\n",
        "      print(\"CPU : \", self.CPU)\r\n",
        "      print(\"RAM : \", self.RAM)\r\n",
        "      print(\"HDD : \", self.HDD) \r\n",
        "  l1 = Laptop(\"Intel\", \"4 GB\", \"1 GB\")\r\n",
        "  l2 = Laptop(\"AMD\", \"8 GB\", \"2 TB\")\r\n",
        "  l1.Show()\r\n",
        "  l2.Show()\r\n",
        "S = Student()\r\n",
        "S.Show()"
      ],
      "outputs": [
        {
          "output_type": "stream",
          "name": "stdout",
          "text": [
            "CPU :  Intel\n",
            "RAM :  4 GB\n",
            "HDD :  1 GB\n",
            "CPU :  AMD\n",
            "RAM :  8 GB\n",
            "HDD :  2 TB\n",
            "Name of student : Sarayu\n",
            "Roll.No : 29\n",
            "Semester.No : 2\n",
            "Details of Student\n",
            "Student Name :  Sarayu\n",
            "Student Roll.No :  29\n",
            "Semester :  2\n"
          ]
        }
      ],
      "metadata": {
        "colab": {
          "base_uri": "https://localhost:8080/"
        },
        "id": "wH9C0SUS8455",
        "outputId": "3f9617d6-b895-4aa2-9321-03b073e2db2e"
      }
    }
  ]
}