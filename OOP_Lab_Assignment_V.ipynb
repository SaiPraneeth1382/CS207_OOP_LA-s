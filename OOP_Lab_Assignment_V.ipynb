{
  "nbformat": 4,
  "nbformat_minor": 0,
  "metadata": {
    "colab": {
      "name": "OOP_Lab_Assignment_V.ipynb",
      "provenance": []
    },
    "kernelspec": {
      "name": "python3",
      "display_name": "Python 3"
    },
    "language_info": {
      "name": "python"
    }
  },
  "cells": [
    {
      "cell_type": "code",
      "metadata": {
        "colab": {
          "base_uri": "https://localhost:8080/"
        },
        "id": "sp7slR-okXmH",
        "outputId": "c73804b7-74e3-41c2-dbe8-b4b0223b02dd"
      },
      "source": [
        "#Problem1\n",
        "from abc import ABC, abstractmethod\n",
        "import math\n",
        "class shape(ABC):\n",
        "    def __init__(self, shape):\n",
        "        self.shape = shape\n",
        "\n",
        "    @abstractmethod\n",
        "    def area(self):\n",
        "        pass\n",
        "\n",
        "class rectangle(shape):\n",
        "    def __init__(self, length, breadth):\n",
        "        shape.__init__(self, 'rectangle')\n",
        "        self.length = length\n",
        "        self.breadth = breadth\n",
        "\n",
        "    def area(self):\n",
        "        return self.length*self.breadth\n",
        "\n",
        "class circle(shape):\n",
        "    def __init__(self, radius):\n",
        "        shape.__init__(self, 'circle')\n",
        "        self.radius = radius\n",
        "\n",
        "    def area(self):\n",
        "        return round((math.pi)*(self.radius*2),2)\n",
        "\n",
        "class square(shape):\n",
        "    def __init__(self, side):\n",
        "        shape.__init__(self, 'square')\n",
        "        self.side = side\n",
        "\n",
        "    def area(self):\n",
        "        return self.side*self.side\n",
        "\n",
        "sq = square(8)\n",
        "print(\"Area of square : \", sq.area())\n",
        "rect = rectangle(4,5)\n",
        "print(\"Area of rectangle : \", rect.area())\n",
        "c = circle(6)\n",
        "print(\"Area of circle : \", c.area())"
      ],
      "execution_count": 22,
      "outputs": [
        {
          "output_type": "stream",
          "name": "stdout",
          "text": [
            "Area of square :  64\n",
            "Area of rectangle :  20\n",
            "Area of circle :  37.7\n"
          ]
        }
      ]
    },
    {
      "cell_type": "code",
      "metadata": {
        "colab": {
          "base_uri": "https://localhost:8080/"
        },
        "id": "BuYH2de4lPqv",
        "outputId": "700abeea-e635-4b60-8658-18d5979106c1"
      },
      "source": [
        "#Problem2\n",
        "class travel:\n",
        "\n",
        "  def __init__(self, travel):\n",
        "    self.travel = travel\n",
        "\n",
        "  def number_of_passangers(self):\n",
        "    pass\n",
        "\n",
        "  def distance(self):\n",
        "    pass\n",
        "\n",
        "  def mode(self):\n",
        "    pass\n",
        "\n",
        "class train(travel):\n",
        "\n",
        "  def __init__(self, total_passangers):\n",
        "    self.total_passangers = total_passangers\n",
        "\n",
        "  def cost_of_transport(self):\n",
        "    print('Cost of Transport by Train is Rs.',self.total_passangers*60)\n",
        "\n",
        "class bus(travel):\n",
        "\n",
        "  def __init__(self, total_passangers):\n",
        "    self.total_passangers = total_passangers\n",
        "\n",
        "  def cost_of_transport(self):\n",
        "    print('Cost of Transport by Bus is Rs.',self.total_passangers*100)\n",
        "\n",
        "mode1 = train(12)\n",
        "mode1.cost_of_transport()\n",
        "\n",
        "mode2 = bus(12)\n",
        "mode2.cost_of_transport()"
      ],
      "execution_count": 25,
      "outputs": [
        {
          "output_type": "stream",
          "name": "stdout",
          "text": [
            "Cost of Transport by Train is Rs. 720\n",
            "Cost of Transport by Bus is Rs. 1200\n"
          ]
        }
      ]
    },
    {
      "cell_type": "code",
      "metadata": {
        "colab": {
          "base_uri": "https://localhost:8080/"
        },
        "id": "GPwHguLSlapW",
        "outputId": "8740449e-0ff8-47d6-d6ba-75ec08496b45"
      },
      "source": [
        "#Problem3\n",
        "class car:\n",
        "  def __init__(self,carnumber):\n",
        "    self.carnumber=carnumber\n",
        "c1=car(2016)\n",
        "c2=car(2020)\n",
        "print('The Model Number of c1 is',c1.carnumber)\n",
        "print('The Model Number of c2 is',c2.carnumber)\n",
        "print('--------------------------------')\n",
        "def carnumswap():\n",
        "  c1.carnumber,c2.carnumber=c2.carnumber,c1.carnumber\n",
        "  print(\"The Model Number of c1 is \",c1.carnumber)\n",
        "  print(\"The Model Number of c2 is \",c2.carnumber)\n",
        "carnumswap()"
      ],
      "execution_count": 28,
      "outputs": [
        {
          "output_type": "stream",
          "name": "stdout",
          "text": [
            "The Model Number of c1 is 2016\n",
            "The Model Number of c2 is 2020\n",
            "--------------------------------\n",
            "The Model Number of c1 is  2020\n",
            "The Model Number of c2 is  2016\n"
          ]
        }
      ]
    }
  ]
}